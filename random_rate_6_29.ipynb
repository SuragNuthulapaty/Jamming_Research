{
  "cells": [
    {
      "cell_type": "code",
      "execution_count": 3,
      "metadata": {
        "id": "cAzwn96W4P5L"
      },
      "outputs": [],
      "source": [
        "  # packages\n",
        "import random\n",
        "import numpy as np\n",
        "import pandas as pd\n",
        "import matplotlib.pyplot as plt\n",
        "\n",
        "import warnings\n",
        "warnings.filterwarnings(\"ignore\", category=DeprecationWarning)\n",
        "\n",
        "HANDSHAKE_LENGTH = 100"
      ]
    },
    {
      "cell_type": "code",
      "execution_count": 4,
      "metadata": {
        "id": "8TX07a-q4U4P"
      },
      "outputs": [],
      "source": [
        "# Generates a signal of 0 and 1 that is num_cycles long\n",
        "# @param num_cycle the length of the signal\n",
        "# @return a tuple of the signals and schedule, schedule says how long a bit at the corresponding point in signals is active\n",
        "# Example: a return of [1,1,0], [2,2,1] would indicate that the first bit (1) in signals is active for two cycles and the second bit (0) is active for one\n",
        "def generate_signals(num_cycle, rate_max=1):\n",
        "  signals = np.array([])\n",
        "\n",
        "  # for simplicity now\n",
        "  schedule = np.array([])\n",
        "\n",
        "  for _ in range(HANDSHAKE_LENGTH):\n",
        "    signals = np.append(signals, 1)\n",
        "    schedule = np.append(schedule, HANDSHAKE_LENGTH)\n",
        "\n",
        "  for _ in range(HANDSHAKE_LENGTH):\n",
        "    signals = np.append(signals, 0)\n",
        "    schedule = np.append(schedule, HANDSHAKE_LENGTH)\n",
        "\n",
        "\n",
        "  i = 0\n",
        "  while i < num_cycle:\n",
        "    # 0 or 1, depending on what the sender is sending\n",
        "    curr_bit = np.random.randint(low=0,high=2)\n",
        "    # rate is how long a certain bit will be active for, before going to the next one\n",
        "    rate = np.random.randint(low=rate_max,high=rate_max+1) # not include 21, only 1 to 20\n",
        "\n",
        "    # if chosen length takes you past the total length, turn it down so there is not any extra\n",
        "    # if not, keep same as chosen\n",
        "    if i + rate > num_cycle:\n",
        "      repeat_time = num_cycle - i\n",
        "    else:\n",
        "      repeat_time = rate\n",
        "\n",
        "    # for the amount of repeat_time (rate if it is able, until the end if not), append corresponding schedule and rate values\n",
        "    for _ in range(repeat_time):\n",
        "      signals = np.append(signals, curr_bit)\n",
        "      schedule = np.append(schedule, rate)\n",
        "      i = i + 1\n",
        "  return signals, schedule\n"
      ]
    },
    {
      "cell_type": "code",
      "execution_count": 5,
      "metadata": {
        "id": "MGBdm0wl58Ro"
      },
      "outputs": [],
      "source": [
        "# Assume we know the number of jammers plus only 1 sender\n",
        "NUMBER_TO_KNOW_TRUE = 1\n",
        "\n",
        "# Or maybe we can infer the number of jammers based on the amplitude of received signals?\n",
        "def approx_signals_min_max(received_signals, schedule, num_jammer=1):\n",
        "  signals = np.zeros(shape=received_signals.shape,dtype=int)\n",
        "  \n",
        "  # based on schedule\n",
        "  \n",
        "  # where to jump to after processing current bit\n",
        "  next_idx = int(schedule[1]) + 2*HANDSHAKE_LENGTH\n",
        "\n",
        "  i = 2*HANDSHAKE_LENGTH\n",
        "  while i < len(received_signals):\n",
        "    if i >= next_idx:\n",
        "      next_idx = int(next_idx + int(schedule[i]))\n",
        "      window_size = schedule[i]\n",
        "\n",
        "      # handle the edge case\n",
        "      if next_idx > len(received_signals):\n",
        "        next_idx = len(received_signals)\n",
        "        window_size = len(received_signals) - i\n",
        "\n",
        "    # two cases for one constant signal\n",
        "    if np.any(received_signals[i:next_idx] == 0):\n",
        "      # jammer 0 + sender 0 = 0\n",
        "      signals[i:next_idx] = 0\n",
        "      i = next_idx\n",
        "\n",
        "    # num of jammer + 1 sender\n",
        "    elif np.count_nonzero(received_signals[i:next_idx] >= num_jammer + 1) >= NUMBER_TO_KNOW_TRUE:\n",
        "      # jammer 1 + sender 1 = 2\n",
        "      signals[i:next_idx] = 1\n",
        "      i = next_idx\n",
        "\n",
        "    else:\n",
        "      if random.random() > 0.5:\n",
        "        # jammer might send 1 since higher average\n",
        "        signals[i:next_idx] = 1\n",
        "        i = next_idx\n",
        "      else:\n",
        "        # jammer might send 0 since lower average\n",
        "        signals[i:next_idx] = 0\n",
        "        i = next_idx\n",
        "  return signals"
      ]
    },
    {
      "cell_type": "code",
      "execution_count": 6,
      "metadata": {},
      "outputs": [],
      "source": [
        "def approx_signals_sliding_window(received_signals, schedule, num_jammer=1, window_slide=20):\n",
        "    signals = np.zeros(shape=received_signals.shape,dtype=int)\n",
        "    signals[HANDSHAKE_LENGTH:2*HANDSHAKE_LENGTH] = 1\n",
        "\n",
        "    for i, _ in enumerate(received_signals):\n",
        "        if i < 2*HANDSHAKE_LENGTH:\n",
        "            continue\n",
        "        window_idx = i-window_slide if i-window_slide >= 0 else 0\n",
        "        avg_sig = sum(received_signals[window_idx:i])/(i+1)\n",
        "\n",
        "        if avg_sig > (num_jammer+1)/2:\n",
        "            signals[i] = 1\n",
        "        else:\n",
        "            signals[i] = 0\n",
        "\n",
        "\n",
        "    return signals"
      ]
    },
    {
      "cell_type": "code",
      "execution_count": 7,
      "metadata": {},
      "outputs": [],
      "source": [
        "def approx_signals_baseline(received_signals, schedule, num_jammer=1):\n",
        "    signals = np.zeros(shape=received_signals.shape,dtype=int)\n",
        "    signals[HANDSHAKE_LENGTH:2*HANDSHAKE_LENGTH] = 1\n",
        "    for i, signal in enumerate(received_signals[2*HANDSHAKE_LENGTH:]):\n",
        "        if signal == num_jammer+1:\n",
        "            signals[i] = -1\n",
        "        else:\n",
        "            signals[i] = signal\n",
        "    return signals"
      ]
    },
    {
      "cell_type": "code",
      "execution_count": 8,
      "metadata": {},
      "outputs": [],
      "source": [
        "def add_noise(l, p_val=0.0):\n",
        "    for i, data in enumerate(l):\n",
        "        cur_rand = random.random()\n",
        "        if cur_rand < p_val:\n",
        "            l[i] += 1\n",
        "        elif cur_rand < p_val*2:\n",
        "            l[i] -= 1\n",
        "    \n",
        "    return l"
      ]
    },
    {
      "cell_type": "code",
      "execution_count": 9,
      "metadata": {},
      "outputs": [],
      "source": [
        "# runs for a variable jammer maximum rate\n",
        "# @param num_runs the number of rns you want to take the average over\n",
        "# @return the dataframe containing Time Length, Accuracy, and Jammer Max Rate arrays\n",
        "def run_variable_jammer_rate(num_runs, accuracy_runs=10, noise_probability=0.0): \n",
        "  # init data frame\n",
        "  df = pd.DataFrame({\"Time Length\":[], \"Min Max Accuracy\":[], \"Window Accuracy\":[], \"Baseline Accuracy\":[], \"Jammer Avg Rate\":[]})\n",
        "  all_send = []\n",
        "  all_jam = []\n",
        "  time_interval = 10**3\n",
        "  # get sender signals with set max rate = 21\n",
        "  SENDER_RATE = 10\n",
        "  for i in range(num_runs):\n",
        "    cur_min_max_accuracy = []\n",
        "    cur_baseline = []\n",
        "    cur_window = []\n",
        "    for _ in range(accuracy_runs):\n",
        "\n",
        "      # get the jammer signals with a certian max rate, determined by current innteration\n",
        "      sender_signals, schedule = generate_signals(time_interval, SENDER_RATE)\n",
        "      jammer_signals, _ = generate_signals(time_interval, i)\n",
        "\n",
        "      # # get sender signals with set max rate = 21\n",
        "      # sender_signals, schedule = generate_signals(time_interval, 20)\n",
        "\n",
        "      # summing the two signals will give the recieved signals\n",
        "      received_signals = jammer_signals + sender_signals\n",
        "\n",
        "      received_signals = add_noise(received_signals, p_val=noise_probability)\n",
        "\n",
        "      # process the recieve through the algorithim\n",
        "      processed_signals_min_max = approx_signals_min_max(received_signals, schedule, num_jammer=1)\n",
        "      processed_signals_window = approx_signals_sliding_window(received_signals, schedule, num_jammer=1)\n",
        "      processed_signals_baseline = approx_signals_baseline(received_signals, schedule, num_jammer=1)\n",
        "\n",
        "      # determine the accuracy by summing up all the equals over the processed and sent, then taking eprcent\n",
        "      min_max_accuracy = np.sum(np.equal(sender_signals, processed_signals_min_max)) * 100 / time_interval\n",
        "      window_accuracy = np.sum(np.equal(sender_signals, processed_signals_window)) * 100 / time_interval\n",
        "      baseline_accuracy = np.sum(np.equal(sender_signals, processed_signals_baseline)) * 100 / time_interval\n",
        "\n",
        "      cur_min_max_accuracy.append(min_max_accuracy)\n",
        "      cur_window.append(window_accuracy)\n",
        "      cur_baseline.append(baseline_accuracy)\n",
        "      \n",
        "    # add the current run to the data frame\n",
        "    df.loc[len(df)] = {\"Time Length\":time_interval, \"Min Max Accuracy\":sum(cur_min_max_accuracy) / len(cur_min_max_accuracy), \"Window Accuracy\":sum(cur_window) / len(cur_window), \"Baseline Accuracy\":sum(cur_baseline)/len(cur_baseline), \"Jammer Avg Rate\":i/SENDER_RATE}\n",
        "\n",
        "    all_send.append(sender_signals)\n",
        "    all_jam.append(jammer_signals)\n",
        "\n",
        "  # add average statistics\n",
        "  df.loc[len(df)] = {\"Time Length\": df[\"Time Length\"].mean(), \"Min Max Accuracy\": df[\"Min Max Accuracy\"].mean(), \"Window Accuracy\": df[\"Window Accuracy\"].mean(), \"Baseline Accuracy\": df[\"Baseline Accuracy\"].mean(), \"Jammer Avg Rate\": i/SENDER_RATE}\n",
        "  \n",
        "  accu = df[\"Min Max Accuracy\"]\n",
        "  stats = {'mean': (accu.mean()), \"median\": accu.median(), \"min\": (accu.argmin(), accu.min()), \"max\": (accu.argmax(), accu.max())}\n",
        "  return df, stats, all_send, all_jam\n"
      ]
    },
    {
      "cell_type": "code",
      "execution_count": 10,
      "metadata": {},
      "outputs": [
        {
          "ename": "KeyboardInterrupt",
          "evalue": "",
          "output_type": "error",
          "traceback": [
            "\u001b[0;31m---------------------------------------------------------------------------\u001b[0m",
            "\u001b[0;31mKeyboardInterrupt\u001b[0m                         Traceback (most recent call last)",
            "Cell \u001b[0;32mIn[10], line 1\u001b[0m\n\u001b[0;32m----> 1\u001b[0m df, stats, send_sig, jam_sig \u001b[38;5;241m=\u001b[39m \u001b[43mrun_variable_jammer_rate\u001b[49m\u001b[43m(\u001b[49m\u001b[38;5;241;43m190\u001b[39;49m\u001b[43m)\u001b[49m\n\u001b[1;32m      3\u001b[0m plt\u001b[38;5;241m.\u001b[39mplot(df[\u001b[38;5;124m\"\u001b[39m\u001b[38;5;124mJammer Avg Rate\u001b[39m\u001b[38;5;124m\"\u001b[39m][:\u001b[38;5;241m-\u001b[39m\u001b[38;5;241m1\u001b[39m], df[\u001b[38;5;124m\"\u001b[39m\u001b[38;5;124mMin Max Accuracy\u001b[39m\u001b[38;5;124m\"\u001b[39m][:\u001b[38;5;241m-\u001b[39m\u001b[38;5;241m1\u001b[39m], label\u001b[38;5;241m=\u001b[39m\u001b[38;5;124m\"\u001b[39m\u001b[38;5;124mMin Max Accuracy\u001b[39m\u001b[38;5;124m\"\u001b[39m)\n\u001b[1;32m      4\u001b[0m plt\u001b[38;5;241m.\u001b[39mplot(df[\u001b[38;5;124m\"\u001b[39m\u001b[38;5;124mJammer Avg Rate\u001b[39m\u001b[38;5;124m\"\u001b[39m][:\u001b[38;5;241m-\u001b[39m\u001b[38;5;241m1\u001b[39m], df[\u001b[38;5;124m\"\u001b[39m\u001b[38;5;124mWindow Accuracy\u001b[39m\u001b[38;5;124m\"\u001b[39m][:\u001b[38;5;241m-\u001b[39m\u001b[38;5;241m1\u001b[39m], label\u001b[38;5;241m=\u001b[39m\u001b[38;5;124m\"\u001b[39m\u001b[38;5;124mWindow Accuracy\u001b[39m\u001b[38;5;124m\"\u001b[39m)\n",
            "Cell \u001b[0;32mIn[9], line 20\u001b[0m, in \u001b[0;36mrun_variable_jammer_rate\u001b[0;34m(num_runs, accuracy_runs, noise_probability)\u001b[0m\n\u001b[1;32m     16\u001b[0m \u001b[38;5;28;01mfor\u001b[39;00m _ \u001b[38;5;129;01min\u001b[39;00m \u001b[38;5;28mrange\u001b[39m(accuracy_runs):\n\u001b[1;32m     17\u001b[0m \n\u001b[1;32m     18\u001b[0m   \u001b[38;5;66;03m# get the jammer signals with a certian max rate, determined by current innteration\u001b[39;00m\n\u001b[1;32m     19\u001b[0m   sender_signals, schedule \u001b[38;5;241m=\u001b[39m generate_signals(time_interval, SENDER_RATE)\n\u001b[0;32m---> 20\u001b[0m   jammer_signals, _ \u001b[38;5;241m=\u001b[39m \u001b[43mgenerate_signals\u001b[49m\u001b[43m(\u001b[49m\u001b[43mtime_interval\u001b[49m\u001b[43m,\u001b[49m\u001b[43m \u001b[49m\u001b[43mi\u001b[49m\u001b[43m)\u001b[49m\n\u001b[1;32m     22\u001b[0m   \u001b[38;5;66;03m# # get sender signals with set max rate = 21\u001b[39;00m\n\u001b[1;32m     23\u001b[0m   \u001b[38;5;66;03m# sender_signals, schedule = generate_signals(time_interval, 20)\u001b[39;00m\n\u001b[1;32m     24\u001b[0m \n\u001b[1;32m     25\u001b[0m   \u001b[38;5;66;03m# summing the two signals will give the recieved signals\u001b[39;00m\n\u001b[1;32m     26\u001b[0m   received_signals \u001b[38;5;241m=\u001b[39m jammer_signals \u001b[38;5;241m+\u001b[39m sender_signals\n",
            "Cell \u001b[0;32mIn[4], line 23\u001b[0m, in \u001b[0;36mgenerate_signals\u001b[0;34m(num_cycle, rate_max)\u001b[0m\n\u001b[1;32m     20\u001b[0m i \u001b[38;5;241m=\u001b[39m \u001b[38;5;241m0\u001b[39m\n\u001b[1;32m     21\u001b[0m \u001b[38;5;28;01mwhile\u001b[39;00m i \u001b[38;5;241m<\u001b[39m num_cycle:\n\u001b[1;32m     22\u001b[0m   \u001b[38;5;66;03m# 0 or 1, depending on what the sender is sending\u001b[39;00m\n\u001b[0;32m---> 23\u001b[0m   curr_bit \u001b[38;5;241m=\u001b[39m \u001b[43mnp\u001b[49m\u001b[38;5;241;43m.\u001b[39;49m\u001b[43mrandom\u001b[49m\u001b[38;5;241;43m.\u001b[39;49m\u001b[43mrandint\u001b[49m\u001b[43m(\u001b[49m\u001b[43mlow\u001b[49m\u001b[38;5;241;43m=\u001b[39;49m\u001b[38;5;241;43m0\u001b[39;49m\u001b[43m,\u001b[49m\u001b[43mhigh\u001b[49m\u001b[38;5;241;43m=\u001b[39;49m\u001b[38;5;241;43m2\u001b[39;49m\u001b[43m)\u001b[49m\n\u001b[1;32m     24\u001b[0m   \u001b[38;5;66;03m# rate is how long a certain bit will be active for, before going to the next one\u001b[39;00m\n\u001b[1;32m     25\u001b[0m   rate \u001b[38;5;241m=\u001b[39m np\u001b[38;5;241m.\u001b[39mrandom\u001b[38;5;241m.\u001b[39mrandint(low\u001b[38;5;241m=\u001b[39mrate_max,high\u001b[38;5;241m=\u001b[39mrate_max\u001b[38;5;241m+\u001b[39m\u001b[38;5;241m1\u001b[39m) \u001b[38;5;66;03m# not include 21, only 1 to 20\u001b[39;00m\n",
            "\u001b[0;31mKeyboardInterrupt\u001b[0m: "
          ]
        }
      ],
      "source": [
        "df, stats, send_sig, jam_sig = run_variable_jammer_rate(190)\n",
        "\n",
        "plt.plot(df[\"Jammer Avg Rate\"][:-1], df[\"Min Max Accuracy\"][:-1], label=\"Min Max Accuracy\")\n",
        "plt.plot(df[\"Jammer Avg Rate\"][:-1], df[\"Window Accuracy\"][:-1], label=\"Window Accuracy\")\n",
        "plt.plot(df[\"Jammer Avg Rate\"][:-1], df[\"Baseline Accuracy\"][:-1], label=\"Baseline Accuracy\")\n",
        "plt.legend()\n",
        "plt.title(\"Accuracy of Different methods\")\n",
        "plt.xlabel(\"Ratio of Jammer Average Bit Length to Sender Average Bit Length\")\n",
        "plt.ylabel(\"Accuracy (%)\")\n",
        "plt.show()\n",
        "\n",
        "df.to_csv('variable_jammer_rate_based_on_algorithim.csv')\n",
        "print(stats)"
      ]
    },
    {
      "cell_type": "code",
      "execution_count": null,
      "metadata": {},
      "outputs": [
        {
          "data": {
            "image/png": "[encoded data removed]",
            "text/plain": [
              "<Figure size 432x288 with 1 Axes>"
            ]
          },
          "metadata": {
            "needs_background": "light"
          },
          "output_type": "display_data"
        }
      ],
      "source": [
        "df, stats, send_sig, jam_sig = run_variable_jammer_rate(190)\n",
        "  \n",
        "count_mm, bins_count_mm = np.histogram(df[\"Min Max Accuracy\"][:-1], bins=10) \n",
        "pdf_mm = count_mm / sum(count_mm) \n",
        "cdf_mm = np.cumsum(pdf_mm) \n",
        "\n",
        "count_w, bins_count_w = np.histogram(df[\"Window Accuracy\"][:-1], bins=10) \n",
        "pdf_w = count_w / sum(count_w) \n",
        "cdf_w = np.cumsum(pdf_w) \n",
        "\n",
        "count_b, bins_count_b = np.histogram(df[\"Baseline Accuracy\"][:-1], bins=10) \n",
        "pdf_b = count_b / sum(count_b) \n",
        "cdf_b = np.cumsum(pdf_b) \n",
        "  \n",
        "plt.plot(bins_count_mm[1:], cdf_mm, label=\"CDF MM\")\n",
        "\n",
        "plt.plot(bins_count_w[1:], cdf_w, label=\"CDF W\", color=\"red\")\n",
        "\n",
        "plt.plot(bins_count_b[1:], cdf_b, label=\"CDF B\", color=\"green\")\n",
        "\n",
        "plt.title(\"CDF of different methods\")\n",
        "plt.xlabel(\"Accuracy (%)\")\n",
        "plt.ylabel(\"Probaility (%)\")\n",
        "\n",
        "plt.legend()\n",
        "plt.show()"
      ]
    },
    {
      "cell_type": "code",
      "execution_count": null,
      "metadata": {},
      "outputs": [],
      "source": [
        "# chart for window parameter\n",
        "# runs for a variable jammer maximum rate\n",
        "# @param num_runs the number of rns you want to take the average over\n",
        "# @return the dataframe containing Time Length, Accuracy, and Jammer Max Rate arrays\n",
        "def run_window_checker(num_runs): \n",
        "  # init data frame\n",
        "  df = pd.DataFrame({\"Time Length\":[], \"Window Accuracy\":[], \"Window Size\":[]})\n",
        "  time_interval = 10**3\n",
        "  # get sender signals with set max rate = 21\n",
        "\n",
        "  for i in range(num_runs):\n",
        "    cur_window = 0\n",
        "    nums = 0\n",
        "    for _ in range(10):\n",
        "      sender_signals, schedule = generate_signals(time_interval, 15)\n",
        "      jammer_signals, _ = generate_signals(time_interval, 40)\n",
        "\n",
        "      # summing the two signals will give the recieved signals\n",
        "      received_signals = jammer_signals + sender_signals\n",
        "\n",
        "      processed_signals_window = approx_signals_sliding_window(received_signals, schedule, num_jammer=1, window_slide=i)\n",
        "\n",
        "      window_accuracy = np.sum(np.equal(sender_signals, processed_signals_window)) * 100 / time_interval\n",
        "\n",
        "      cur_window += window_accuracy\n",
        "      nums += 1\n",
        "\n",
        "    # add the current run to the data frame\n",
        "    df.loc[len(df)] = {\"Time Length\":time_interval, \"Window Accuracy\": cur_window/nums, \"Window Size\": i}\n",
        "\n",
        "  # add average statistics\n",
        "  df.loc[len(df)] = {\"Time Length\": df[\"Time Length\"].mean(), \"Window Accuracy\": df[\"Window Accuracy\"].mean(), \"Window Size\": i}\n",
        "  \n",
        "  accu = df[\"Window Accuracy\"]\n",
        "  stats = {'mean': (accu.mean()), \"median\": accu.median(), \"min\": (accu.argmin(), accu.min()), \"max\": (accu.argmax(), accu.max())}\n",
        "  return df, stats"
      ]
    },
    {
      "cell_type": "code",
      "execution_count": null,
      "metadata": {},
      "outputs": [
        {
          "ename": "KeyboardInterrupt",
          "evalue": "",
          "output_type": "error",
          "traceback": [
            "\u001b[0;31m---------------------------------------------------------------------------\u001b[0m",
            "\u001b[0;31mKeyboardInterrupt\u001b[0m                         Traceback (most recent call last)",
            "Input \u001b[0;32mIn [115]\u001b[0m, in \u001b[0;36m<module>\u001b[0;34m\u001b[0m\n\u001b[0;32m----> 1\u001b[0m df, stats \u001b[38;5;241m=\u001b[39m \u001b[43mrun_window_checker\u001b[49m\u001b[43m(\u001b[49m\u001b[38;5;241;43m1000\u001b[39;49m\u001b[43m)\u001b[49m\n\u001b[1;32m      3\u001b[0m df\u001b[38;5;241m.\u001b[39mto_csv(\u001b[38;5;124m\"\u001b[39m\u001b[38;5;124mchecking_window_size.csv\u001b[39m\u001b[38;5;124m\"\u001b[39m)\n\u001b[1;32m      5\u001b[0m plt\u001b[38;5;241m.\u001b[39mplot(df[\u001b[38;5;124m\"\u001b[39m\u001b[38;5;124mWindow Size\u001b[39m\u001b[38;5;124m\"\u001b[39m][:\u001b[38;5;241m-\u001b[39m\u001b[38;5;241m1\u001b[39m], df[\u001b[38;5;124m\"\u001b[39m\u001b[38;5;124mWindow Accuracy\u001b[39m\u001b[38;5;124m\"\u001b[39m][:\u001b[38;5;241m-\u001b[39m\u001b[38;5;241m1\u001b[39m])\n",
            "Input \u001b[0;32mIn [114]\u001b[0m, in \u001b[0;36mrun_window_checker\u001b[0;34m(num_runs)\u001b[0m\n\u001b[1;32m     18\u001b[0m \u001b[38;5;66;03m# summing the two signals will give the recieved signals\u001b[39;00m\n\u001b[1;32m     19\u001b[0m received_signals \u001b[38;5;241m=\u001b[39m jammer_signals \u001b[38;5;241m+\u001b[39m sender_signals\n\u001b[0;32m---> 21\u001b[0m processed_signals_window \u001b[38;5;241m=\u001b[39m \u001b[43mapprox_signals_sliding_window\u001b[49m\u001b[43m(\u001b[49m\u001b[43mreceived_signals\u001b[49m\u001b[43m,\u001b[49m\u001b[43m \u001b[49m\u001b[43mschedule\u001b[49m\u001b[43m,\u001b[49m\u001b[43m \u001b[49m\u001b[43mnum_jammer\u001b[49m\u001b[38;5;241;43m=\u001b[39;49m\u001b[38;5;241;43m1\u001b[39;49m\u001b[43m,\u001b[49m\u001b[43m \u001b[49m\u001b[43mwindow_slide\u001b[49m\u001b[38;5;241;43m=\u001b[39;49m\u001b[43mi\u001b[49m\u001b[43m)\u001b[49m\n\u001b[1;32m     23\u001b[0m window_accuracy \u001b[38;5;241m=\u001b[39m np\u001b[38;5;241m.\u001b[39msum(np\u001b[38;5;241m.\u001b[39mequal(sender_signals, processed_signals_window)) \u001b[38;5;241m*\u001b[39m \u001b[38;5;241m100\u001b[39m \u001b[38;5;241m/\u001b[39m time_interval\n\u001b[1;32m     25\u001b[0m cur_window \u001b[38;5;241m+\u001b[39m\u001b[38;5;241m=\u001b[39m window_accuracy\n",
            "Input \u001b[0;32mIn [107]\u001b[0m, in \u001b[0;36mapprox_signals_sliding_window\u001b[0;34m(received_signals, schedule, num_jammer, window_slide)\u001b[0m\n\u001b[1;32m      7\u001b[0m     \u001b[38;5;28;01mcontinue\u001b[39;00m\n\u001b[1;32m      8\u001b[0m window_idx \u001b[38;5;241m=\u001b[39m i\u001b[38;5;241m-\u001b[39mwindow_slide \u001b[38;5;28;01mif\u001b[39;00m i\u001b[38;5;241m-\u001b[39mwindow_slide \u001b[38;5;241m>\u001b[39m\u001b[38;5;241m=\u001b[39m \u001b[38;5;241m0\u001b[39m \u001b[38;5;28;01melse\u001b[39;00m \u001b[38;5;241m0\u001b[39m\n\u001b[0;32m----> 9\u001b[0m avg_sig \u001b[38;5;241m=\u001b[39m \u001b[38;5;28;43msum\u001b[39;49m\u001b[43m(\u001b[49m\u001b[43mreceived_signals\u001b[49m\u001b[43m[\u001b[49m\u001b[43mwindow_idx\u001b[49m\u001b[43m:\u001b[49m\u001b[43mi\u001b[49m\u001b[43m]\u001b[49m\u001b[43m)\u001b[49m\u001b[38;5;241m/\u001b[39m(i\u001b[38;5;241m+\u001b[39m\u001b[38;5;241m1\u001b[39m)\n\u001b[1;32m     11\u001b[0m \u001b[38;5;28;01mif\u001b[39;00m avg_sig \u001b[38;5;241m>\u001b[39m (num_jammer\u001b[38;5;241m+\u001b[39m\u001b[38;5;241m1\u001b[39m)\u001b[38;5;241m/\u001b[39m\u001b[38;5;241m2\u001b[39m:\n\u001b[1;32m     12\u001b[0m     signals[i] \u001b[38;5;241m=\u001b[39m \u001b[38;5;241m1\u001b[39m\n",
            "\u001b[0;31mKeyboardInterrupt\u001b[0m: "
          ]
        }
      ],
      "source": [
        "df, stats = run_window_checker(1000)\n",
        "\n",
        "df.to_csv(\"checking_window_size.csv\")\n",
        "\n",
        "plt.plot(df[\"Window Size\"][:-1], df[\"Window Accuracy\"][:-1])\n",
        "plt.title(\"Accuracy based on sliding Window Size\")\n",
        "plt.xlabel(\"Size of the 'Window'\")\n",
        "plt.ylabel(\"Accuracy (%)\")\n",
        "plt.show()\n",
        "\n",
        "stats"
      ]
    },
    {
      "cell_type": "code",
      "execution_count": null,
      "metadata": {},
      "outputs": [],
      "source": [
        "# runs for a variable jammer rate when teh jammer rate and the sender rate are verhy close together\n",
        "# @param num_runs the number of rns you want to take the average over\n",
        "# @return the dataframe containing Time Length, Accuracy, and Jammer Max Rate arrays\n",
        "def jammer_sender_very_close():\n",
        "  # init data frame\n",
        "  df = pd.DataFrame({\"Time Length\":[], \"Min Max Accuracy\":[], \"Jammer Avg Rate\":[]})\n",
        "  time_interval = 10**3\n",
        "  # get sender signals with set max rate = 21\n",
        "  SENDER_RATE = 100\n",
        "  sender_signals, schedule = generate_signals(time_interval, SENDER_RATE)\n",
        "  for i in range(SENDER_RATE-10, SENDER_RATE+10):\n",
        "    cur_min_max_accuracy = []\n",
        "    for _ in range(1000):\n",
        "\n",
        "      # get the jammer signals with a certian max rate, determined by current innteration\n",
        "      jammer_signals, _ = generate_signals(time_interval, i)\n",
        "\n",
        "      # # get sender signals with set max rate = 21\n",
        "      # sender_signals, schedule = generate_signals(time_interval, 20)\n",
        "\n",
        "      # summing the two signals will give the recieved signals\n",
        "      received_signals = jammer_signals + sender_signals\n",
        "\n",
        "      # process the recieve through the algorithim\n",
        "      processed_signals_min_max = approx_signals_min_max(received_signals, schedule, num_jammer=1)\n",
        "\n",
        "      # determine the accuracy by summing up all the equals over the processed and sent, then taking eprcent\n",
        "      min_max_accuracy = np.sum(np.equal(sender_signals, processed_signals_min_max)) * 100 / time_interval\n",
        "\n",
        "      cur_min_max_accuracy.append(min_max_accuracy)\n",
        "\n",
        "    # add the current run to the data frame\n",
        "    df.loc[len(df)] = {\"Time Length\":time_interval, \"Min Max Accuracy\":sum(cur_min_max_accuracy) / len(cur_min_max_accuracy), \"Jammer Avg Rate\":i/SENDER_RATE}\n",
        "\n",
        "  # add average statistics\n",
        "  df.loc[len(df)] = {\"Time Length\": df[\"Time Length\"].mean(), \"Min Max Accuracy\": df[\"Min Max Accuracy\"].mean(), \"Jammer Avg Rate\": i/SENDER_RATE}\n",
        "  \n",
        "  accu = df[\"Min Max Accuracy\"]\n",
        "  stats = {'mean': (accu.mean()), \"median\": accu.median(), \"min\": (accu.argmin(), accu.min()), \"max\": (accu.argmax(), accu.max())}\n",
        "  return df, stats\n"
      ]
    },
    {
      "cell_type": "code",
      "execution_count": null,
      "metadata": {},
      "outputs": [
        {
          "data": {
            "image/png": "[encoded data removed]",
            "text/plain": [
              "<Figure size 432x288 with 1 Axes>"
            ]
          },
          "metadata": {
            "needs_background": "light"
          },
          "output_type": "display_data"
        },
        {
          "data": {
            "text/plain": [
              "{'mean': 86.09327500000009,\n",
              " 'median': 85.94670000000019,\n",
              " 'min': (18, 85.12630000000006),\n",
              " 'max': (0, 87.17020000000011)}"
            ]
          },
          "execution_count": 33,
          "metadata": {},
          "output_type": "execute_result"
        }
      ],
      "source": [
        "df, stats = jammer_sender_very_close()\n",
        "\n",
        "plt.plot(df[\"Jammer Avg Rate\"][:-1], df[\"Min Max Accuracy\"][:-1])\n",
        "plt.title(\"Accuracy based on sliding very small jammer lengths\")\n",
        "plt.xlabel(\"Ratio of jammer max bit length to sender max bit length'\")\n",
        "plt.ylabel(\"Accuracy (%)\")\n",
        "plt.show()\n",
        "\n",
        "stats"
      ]
    },
    {
      "cell_type": "markdown",
      "metadata": {},
      "source": [
        "New algorithim:\n",
        "\n",
        "Use Min Max\n"
      ]
    }
  ],
  "metadata": {
    "colab": {
      "provenance": []
    },
    "kernelspec": {
      "display_name": "Python 3",
      "name": "python3"
    },
    "language_info": {
      "codemirror_mode": {
        "name": "ipython",
        "version": 3
      },
      "file_extension": ".py",
      "mimetype": "text/x-python",
      "name": "python",
      "nbconvert_exporter": "python",
      "pygments_lexer": "ipython3",
      "version": "3.12.1"
    }
  },
  "nbformat": 4,
  "nbformat_minor": 0
}
